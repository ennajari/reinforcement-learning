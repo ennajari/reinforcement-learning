{
 "cells": [
  {
   "cell_type": "code",
   "execution_count": 8,
   "id": "ccf19b90",
   "metadata": {},
   "outputs": [],
   "source": [
    "import numpy as np\n",
    "import gymnasium as gym\n",
    "from gymnasium import spaces\n",
    "import random\n",
    "import pickle"
   ]
  },
  {
   "cell_type": "code",
   "execution_count": 9,
   "id": "2d6abf85",
   "metadata": {},
   "outputs": [],
   "source": [
    "X_train = np.load('../Data/X_train.npy')\n",
    "y_train = np.load('../Data/y_train.npy')\n",
    "X_test = np.load('../Data/X_test.npy')\n",
    "y_test = np.load('../Data/y_test.npy')"
   ]
  },
  {
   "cell_type": "markdown",
   "id": "5ac5e978",
   "metadata": {},
   "source": [
    "Environnement personnalisé pour la classification des offres d'emploi"
   ]
  },
  {
   "cell_type": "code",
   "execution_count": 10,
   "id": "69c2fe21",
   "metadata": {},
   "outputs": [],
   "source": [
    "class JobClassificationEnv(gym.Env):\n",
    "    metadata = {\"render_modes\": [\"human\"]}\n",
    "\n",
    "    def __init__(self, features, labels):\n",
    "        super(JobClassificationEnv, self).__init__()\n",
    "        self.features = features\n",
    "        self.labels = labels\n",
    "        self.current_index = 0\n",
    "        self.current_state = None\n",
    "        \n",
    "        self.observation_space = spaces.Box(\n",
    "            low=-np.inf, high=np.inf, \n",
    "            shape=(features.shape[1],), \n",
    "            dtype=np.float32\n",
    "        )\n",
    "        self.action_space = spaces.Discrete(2)\n",
    "        \n",
    "    def reset(self, seed=None, options=None):\n",
    "        if seed is not None:\n",
    "            super().reset(seed=seed)\n",
    "            \n",
    "        if options is None:\n",
    "            options = {}\n",
    "            \n",
    "        self.current_index = random.randint(0, len(self.features) - 1)\n",
    "        self.current_state = self.features[self.current_index].astype(np.float32)\n",
    "        \n",
    "        return self.current_state, {}\n",
    "\n",
    "    def step(self, action):\n",
    "        reward = 1.0 if action == self.labels[self.current_index] else -1.0\n",
    "        done = True\n",
    "        truncated = False\n",
    "        info = {}\n",
    "        return self.current_state, reward, done, truncated, info\n",
    "\n",
    "    def render(self, mode=\"human\"):\n",
    "        pass\n"
   ]
  },
  {
   "cell_type": "markdown",
   "id": "bc12134b",
   "metadata": {},
   "source": [
    "Création des environnements"
   ]
  },
  {
   "cell_type": "code",
   "execution_count": 11,
   "id": "525f663c",
   "metadata": {},
   "outputs": [],
   "source": [
    "train_env = JobClassificationEnv(X_train, y_train)\n",
    "test_env = JobClassificationEnv(X_test, y_test)"
   ]
  },
  {
   "cell_type": "markdown",
   "id": "6af21dd1",
   "metadata": {},
   "source": [
    "Sauvegarde des environnements"
   ]
  },
  {
   "cell_type": "code",
   "execution_count": 12,
   "id": "96234ebd",
   "metadata": {},
   "outputs": [],
   "source": [
    "with open('../Data/train_env.pkl', 'wb') as f:\n",
    "    pickle.dump(train_env, f)\n",
    "with open('../Data/test_env.pkl', 'wb') as f:\n",
    "    pickle.dump(test_env, f)"
   ]
  },
  {
   "cell_type": "code",
   "execution_count": 13,
   "id": "b80bf287",
   "metadata": {},
   "outputs": [
    {
     "name": "stdout",
     "output_type": "stream",
     "text": [
      "Dimension de l'espace d'observation: (5000,)\n",
      "Nombre d'actions possibles: 2\n"
     ]
    }
   ],
   "source": [
    "print(f\"Dimension de l'espace d'observation: {train_env.observation_space.shape}\")\n",
    "print(f\"Nombre d'actions possibles: {train_env.action_space.n}\")"
   ]
  }
 ],
 "metadata": {
  "kernelspec": {
   "display_name": "base",
   "language": "python",
   "name": "python3"
  },
  "language_info": {
   "codemirror_mode": {
    "name": "ipython",
    "version": 3
   },
   "file_extension": ".py",
   "mimetype": "text/x-python",
   "name": "python",
   "nbconvert_exporter": "python",
   "pygments_lexer": "ipython3",
   "version": "3.12.9"
  }
 },
 "nbformat": 4,
 "nbformat_minor": 5
}
