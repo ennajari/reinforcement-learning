{
 "cells": [
  {
   "cell_type": "code",
   "execution_count": 7,
   "id": "6182c3c6",
   "metadata": {},
   "outputs": [],
   "source": [
    "import torch\n",
    "import torch.nn as nn\n",
    "import torch.nn.functional as F\n",
    "import torch.optim as optim\n",
    "from collections import deque\n",
    "import random\n",
    "import numpy as np\n",
    "import matplotlib.pyplot as plt\n",
    "import pickle"
   ]
  },
  {
   "cell_type": "code",
   "execution_count": 8,
   "id": "ea2cd880",
   "metadata": {},
   "outputs": [],
   "source": [
    "X_train = np.load('../Data/X_train.npy')\n",
    "state_size = X_train.shape[1]\n",
    "action_size = 2"
   ]
  },
  {
   "cell_type": "code",
   "execution_count": 9,
   "id": "395f95e1",
   "metadata": {},
   "outputs": [],
   "source": [
    "class DQN(nn.Module):\n",
    "    \"\"\"Réseau de neurones pour l'apprentissage Q (Deep Q-Network)\"\"\"\n",
    "    def __init__(self, input_dim, output_dim):\n",
    "        super(DQN, self).__init__()\n",
    "        self.fc1 = nn.Linear(input_dim, 256)\n",
    "        self.fc2 = nn.Linear(256, 128)\n",
    "        self.fc3 = nn.Linear(128, output_dim)\n",
    "        \n",
    "        nn.init.kaiming_normal_(self.fc1.weight)\n",
    "        nn.init.kaiming_normal_(self.fc2.weight)\n",
    "        nn.init.kaiming_normal_(self.fc3.weight)\n",
    "    \n",
    "    def forward(self, x):\n",
    "        x = F.relu(self.fc1(x))\n",
    "        x = F.relu(self.fc2(x))\n",
    "        x = self.fc3(x)\n",
    "        return x"
   ]
  },
  {
   "cell_type": "code",
   "execution_count": 10,
   "id": "0830457d",
   "metadata": {},
   "outputs": [],
   "source": [
    "class DQNAgent:\n",
    "    \"\"\"Agent utilisant un DQN avec replay memory et exploration epsilon-greedy\"\"\"\n",
    "    def __init__(self, state_size, action_size):\n",
    "        self.state_size = state_size\n",
    "        self.action_size = action_size\n",
    "        self.memory = deque(maxlen=10000)\n",
    "        self.gamma = 0.95\n",
    "        self.epsilon = 1.0\n",
    "        self.epsilon_min = 0.01\n",
    "        self.epsilon_decay = 0.995\n",
    "        self.learning_rate = 0.001\n",
    "\n",
    "        self.model = DQN(state_size, action_size)\n",
    "        self.optimizer = optim.Adam(self.model.parameters(), lr=self.learning_rate)\n",
    "        self.criterion = nn.MSELoss()\n",
    "        \n",
    "        self.losses = []\n",
    "        self.rewards = []\n",
    "        self.epsilons = []\n",
    "    \n",
    "    def remember(self, state, action, reward, next_state, done):\n",
    "        self.memory.append((state, action, reward, next_state, done))\n",
    "    \n",
    "    def act(self, state):\n",
    "        if np.random.rand() <= self.epsilon:\n",
    "            return random.randrange(self.action_size)\n",
    "        \n",
    "        with torch.no_grad():\n",
    "            state_tensor = torch.FloatTensor(state).unsqueeze(0)\n",
    "            act_values = self.model(state_tensor)\n",
    "            return torch.argmax(act_values[0]).item()\n",
    "    \n",
    "    def replay(self, batch_size):\n",
    "        if len(self.memory) < batch_size:\n",
    "            return 0\n",
    "        \n",
    "        minibatch = random.sample(self.memory, batch_size)\n",
    "        total_loss = 0\n",
    "        \n",
    "        for state, action, reward, next_state, done in minibatch:\n",
    "            state_tensor = torch.FloatTensor(state).unsqueeze(0)\n",
    "            next_state_tensor = torch.FloatTensor(next_state).unsqueeze(0)\n",
    "            \n",
    "            target = reward\n",
    "            if not done:\n",
    "                with torch.no_grad():\n",
    "                    target = reward + self.gamma * torch.max(self.model(next_state_tensor)[0]).item()\n",
    "            \n",
    "            current_q = self.model(state_tensor)[0]\n",
    "            target_f = current_q.clone()\n",
    "            target_f[action] = target\n",
    "            \n",
    "            self.optimizer.zero_grad()\n",
    "            loss = self.criterion(current_q, target_f)\n",
    "            loss.backward()\n",
    "            self.optimizer.step()\n",
    "            \n",
    "            total_loss += loss.item()\n",
    "        \n",
    "        if self.epsilon > self.epsilon_min:\n",
    "            self.epsilon *= self.epsilon_decay\n",
    "            \n",
    "        avg_loss = total_loss / batch_size\n",
    "        self.losses.append(avg_loss)\n",
    "        return avg_loss\n",
    "    \n",
    "    def plot_metrics(self):\n",
    "        fig, (ax1, ax2) = plt.subplots(2, 1, figsize=(12, 10))\n",
    "        \n",
    "        ax1.plot(self.losses)\n",
    "        ax1.set_title('Évolution de la perte pendant l\\'entraînement')\n",
    "        ax1.set_xlabel('Mini-batch')\n",
    "        ax1.set_ylabel('Perte (MSE)')\n",
    "        ax1.grid(True)\n",
    "        \n",
    "        ax2.plot(self.epsilons, label='Epsilon')\n",
    "        if self.rewards:\n",
    "            window_size = min(50, len(self.rewards))\n",
    "            smoothed_rewards = np.convolve(self.rewards, np.ones(window_size)/window_size, mode='valid')\n",
    "            ax2.plot(smoothed_rewards, label='Récompense moyenne (lissée)')\n",
    "        \n",
    "        ax2.set_title('Évolution de l\\'exploration et des récompenses')\n",
    "        ax2.set_xlabel('Épisode')\n",
    "        ax2.legend()\n",
    "        ax2.grid(True)\n",
    "        \n",
    "        plt.tight_layout()\n",
    "        plt.savefig('../Data/training_metrics.png')\n",
    "        plt.show()\n",
    "    \n",
    "    def load(self, name):\n",
    "        self.model.load_state_dict(torch.load(name))\n",
    "    \n",
    "    def save(self, name):\n",
    "        torch.save(self.model.state_dict(), name)"
   ]
  },
  {
   "cell_type": "markdown",
   "id": "f81a7240",
   "metadata": {},
   "source": [
    "Initialisation de l'agent"
   ]
  },
  {
   "cell_type": "code",
   "execution_count": 11,
   "id": "3c20ff62",
   "metadata": {},
   "outputs": [],
   "source": [
    "agent = DQNAgent(state_size, action_size)"
   ]
  },
  {
   "cell_type": "markdown",
   "id": "b4318c84",
   "metadata": {},
   "source": [
    "Sauvegarde de l'agent initial"
   ]
  },
  {
   "cell_type": "code",
   "execution_count": 12,
   "id": "4142fa33",
   "metadata": {},
   "outputs": [],
   "source": [
    "agent.save('../Data/initial_dqn_model.pth')"
   ]
  },
  {
   "cell_type": "code",
   "execution_count": null,
   "id": "189fb435",
   "metadata": {},
   "outputs": [],
   "source": []
  }
 ],
 "metadata": {
  "kernelspec": {
   "display_name": "base",
   "language": "python",
   "name": "python3"
  },
  "language_info": {
   "codemirror_mode": {
    "name": "ipython",
    "version": 3
   },
   "file_extension": ".py",
   "mimetype": "text/x-python",
   "name": "python",
   "nbconvert_exporter": "python",
   "pygments_lexer": "ipython3",
   "version": "3.12.9"
  }
 },
 "nbformat": 4,
 "nbformat_minor": 5
}
